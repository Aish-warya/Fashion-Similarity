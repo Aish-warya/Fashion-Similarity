{
 "cells": [
  {
   "cell_type": "code",
   "execution_count": 5,
   "metadata": {},
   "outputs": [],
   "source": [
    "from __future__ import absolute_import\n",
    "from __future__ import print_function\n",
    "import numpy as np\n",
    "\n",
    "import random\n",
    "from keras.datasets import mnist\n",
    "from keras.models import Model\n",
    "from keras.layers import Input, Flatten, Dense, Dropout, Lambda\n",
    "from keras.optimizers import RMSprop\n",
    "from keras import backend as K\n",
    "\n",
    "num_classes = 10\n",
    "epochs = 5"
   ]
  },
  {
   "cell_type": "code",
   "execution_count": 12,
   "metadata": {},
   "outputs": [],
   "source": [
    "\n",
    "\n",
    "\n",
    "def euclidean_distance(vects):\n",
    "    x, y = vects\n",
    "    sum_square = K.sum(K.square(x - y), axis=1, keepdims=True)\n",
    "    return K.sqrt(K.maximum(sum_square, K.epsilon()))\n",
    "\n",
    "\n",
    "def eucl_dist_output_shape(shapes):\n",
    "    shape1, shape2 = shapes\n",
    "    return (shape1[0], 1)\n",
    "\n",
    "\n",
    "def contrastive_loss(y_true, y_pred):\n",
    "    '''Contrastive loss from Hadsell-et-al.'06\n",
    "    http://yann.lecun.com/exdb/publis/pdf/hadsell-chopra-lecun-06.pdf\n",
    "    '''\n",
    "    margin = 1\n",
    "    square_pred = K.square(y_pred)\n",
    "    margin_square = K.square(K.maximum(margin - y_pred, 0))\n",
    "    return K.mean(y_true * square_pred + (1 - y_true) * margin_square)\n",
    "\n",
    "\n",
    "def create_pairs(x, digit_indices):\n",
    "    '''Positive and negative pair creation.\n",
    "    Alternates between positive and negative pairs.\n",
    "    '''\n",
    "    pairs = []\n",
    "    labels = []\n",
    "    n = min([len(digit_indices[d]) for d in range(num_classes)]) - 1\n",
    "    print(\"Value of n is \",n)\n",
    "    for d in range(num_classes):\n",
    "        for i in range(n):\n",
    "            z1, z2 = digit_indices[d][i], digit_indices[d][i + 1]\n",
    "            pairs += [[x[z1], x[z2]]]\n",
    "            inc = random.randrange(1, num_classes)\n",
    "            dn = (d + inc) % num_classes\n",
    "            z1, z2 = digit_indices[d][i], digit_indices[dn][i]\n",
    "            pairs += [[x[z1], x[z2]]]\n",
    "            labels += [1, 0]\n",
    "    return np.array(pairs), np.array(labels)\n",
    "\n",
    "\n",
    "def create_base_network(input_shape): #vgg19 vector input\n",
    "    '''Base network to be shared (eq. to feature extraction).\n",
    "    '''\n",
    "    input = Input(shape=input_shape)\n",
    "    x = Flatten()(input) #leaving flattening\n",
    "    x = Dense(128, activation='relu')(x) #512\n",
    "    x = Dropout(0.1)(x)\n",
    "    x = Dense(128, activation='relu')(x)\n",
    "    x = Dropout(0.1)(x)\n",
    "    x = Dense(128, activation='relu')(x)\n",
    "    return Model(input, x)\n",
    "\n",
    "\n",
    "def compute_accuracy(y_true, y_pred):\n",
    "    '''Compute classification accuracy with a fixed threshold on distances.\n",
    "    '''\n",
    "    pred = y_pred.ravel() < 0.5\n",
    "    return np.mean(pred == y_true)\n",
    "\n",
    "\n",
    "def accuracy(y_true, y_pred):\n",
    "    '''Compute classification accuracy with a fixed threshold on distances.\n",
    "    '''\n",
    "    return K.mean(K.equal(y_true, K.cast(y_pred < 0.5, y_true.dtype)))\n",
    "\n",
    "\n"
   ]
  },
  {
   "cell_type": "code",
   "execution_count": 13,
   "metadata": {},
   "outputs": [
    {
     "name": "stdout",
     "output_type": "stream",
     "text": [
      "Value of n is  5420\n",
      "Value of n is  891\n",
      "Train on 108400 samples, validate on 17820 samples\n",
      "Epoch 1/20\n",
      "108400/108400 [==============================] - 8s 76us/step - loss: 0.0927 - accuracy: 0.8902 - val_loss: 0.0426 - val_accuracy: 0.9549\n",
      "Epoch 2/20\n",
      "108400/108400 [==============================] - 7s 64us/step - loss: 0.0383 - accuracy: 0.9619 - val_loss: 0.0278 - val_accuracy: 0.9713\n",
      "Epoch 3/20\n",
      "108400/108400 [==============================] - 7s 67us/step - loss: 0.0266 - accuracy: 0.9729 - val_loss: 0.0255 - val_accuracy: 0.9722\n",
      "Epoch 4/20\n",
      "108400/108400 [==============================] - 7s 65us/step - loss: 0.0213 - accuracy: 0.9777 - val_loss: 0.0245 - val_accuracy: 0.9721\n",
      "Epoch 5/20\n",
      "108400/108400 [==============================] - 7s 62us/step - loss: 0.0182 - accuracy: 0.9807 - val_loss: 0.0229 - val_accuracy: 0.9731\n",
      "Epoch 6/20\n",
      "108400/108400 [==============================] - 7s 63us/step - loss: 0.0165 - accuracy: 0.9823 - val_loss: 0.0229 - val_accuracy: 0.9718\n",
      "Epoch 7/20\n",
      "108400/108400 [==============================] - 7s 62us/step - loss: 0.0150 - accuracy: 0.9840 - val_loss: 0.0215 - val_accuracy: 0.9749\n",
      "Epoch 8/20\n",
      "108400/108400 [==============================] - 7s 64us/step - loss: 0.0137 - accuracy: 0.9851 - val_loss: 0.0223 - val_accuracy: 0.9737\n",
      "Epoch 9/20\n",
      "108400/108400 [==============================] - 7s 64us/step - loss: 0.0130 - accuracy: 0.9858 - val_loss: 0.0237 - val_accuracy: 0.9732\n",
      "Epoch 10/20\n",
      "108400/108400 [==============================] - 7s 64us/step - loss: 0.0123 - accuracy: 0.9865 - val_loss: 0.0232 - val_accuracy: 0.9740\n",
      "Epoch 11/20\n",
      "108400/108400 [==============================] - 7s 64us/step - loss: 0.0115 - accuracy: 0.9874 - val_loss: 0.0222 - val_accuracy: 0.9745\n",
      "Epoch 12/20\n",
      "108400/108400 [==============================] - 7s 66us/step - loss: 0.0113 - accuracy: 0.9877 - val_loss: 0.0225 - val_accuracy: 0.9731\n",
      "Epoch 13/20\n",
      "108400/108400 [==============================] - 7s 69us/step - loss: 0.0110 - accuracy: 0.9878 - val_loss: 0.0226 - val_accuracy: 0.9735\n",
      "Epoch 14/20\n",
      "108400/108400 [==============================] - 7s 63us/step - loss: 0.0106 - accuracy: 0.9885 - val_loss: 0.0241 - val_accuracy: 0.9730\n",
      "Epoch 15/20\n",
      "108400/108400 [==============================] - 8s 71us/step - loss: 0.0100 - accuracy: 0.9890 - val_loss: 0.0231 - val_accuracy: 0.9727\n",
      "Epoch 16/20\n",
      "108400/108400 [==============================] - 7s 66us/step - loss: 0.0100 - accuracy: 0.9892 - val_loss: 0.0239 - val_accuracy: 0.9722\n",
      "Epoch 17/20\n",
      "108400/108400 [==============================] - 7s 67us/step - loss: 0.0094 - accuracy: 0.9897 - val_loss: 0.0240 - val_accuracy: 0.9731\n",
      "Epoch 18/20\n",
      "108400/108400 [==============================] - 8s 70us/step - loss: 0.0094 - accuracy: 0.9898 - val_loss: 0.0238 - val_accuracy: 0.9724\n",
      "Epoch 19/20\n",
      "108400/108400 [==============================] - 7s 68us/step - loss: 0.0088 - accuracy: 0.9905 - val_loss: 0.0236 - val_accuracy: 0.9731\n",
      "Epoch 20/20\n",
      "108400/108400 [==============================] - 7s 67us/step - loss: 0.0092 - accuracy: 0.9901 - val_loss: 0.0233 - val_accuracy: 0.9743\n",
      "* Accuracy on training set: 99.56%\n",
      "* Accuracy on test set: 97.43%\n"
     ]
    }
   ],
   "source": [
    "# the data, split between train and test sets\n",
    "#no normalization needed.\n",
    "#x_train =[(vgg_a , vgg_b) , (vgg_c , vgg_d) , (vgg_p , vgg_q) , ....(vgg_x , vgg_y)]\n",
    "(x_train, y_train), (x_test, y_test) = mnist.load_data()\n",
    "x_train = x_train.astype('float32')\n",
    "x_test = x_test.astype('float32')\n",
    "x_train /= 255 \n",
    "x_test /= 255\n",
    "input_shape = x_train.shape[1:]\n",
    "\n",
    "# create training+test positive and negative pairs\n",
    "digit_indices = [np.where(y_train == i)[0] for i in range(num_classes)]\n",
    "tr_pairs, tr_y = create_pairs(x_train, digit_indices) #comapring at the pair level. if two pairs are same - 1 else 0\n",
    "\n",
    "digit_indices = [np.where(y_test == i)[0] for i in range(num_classes)]\n",
    "te_pairs, te_y = create_pairs(x_test, digit_indices)\n",
    "\n",
    "\n",
    "\n",
    "# network definition\n",
    "base_network = create_base_network(input_shape)\n",
    "\n",
    "input_a = Input(shape=input_shape) #same as shape of vgg vector\n",
    "input_b = Input(shape=input_shape)\n",
    "\n",
    "# because we re-use the same instance `base_network`,\n",
    "# the weights of the network\n",
    "# will be shared across the two branches\n",
    "processed_a = base_network(input_a) # defining the computation\n",
    "processed_b = base_network(input_b)\n",
    "\n",
    "distance = Lambda(euclidean_distance,\n",
    "                  output_shape=eucl_dist_output_shape)([processed_a, processed_b])\n",
    "\n",
    "model = Model([input_a, input_b], distance)\n",
    "\n",
    "# train\n",
    "rms = RMSprop()\n",
    "model.compile(loss=contrastive_loss, optimizer=rms, metrics=[accuracy])\n",
    "\n",
    "#vgg vectors for img1 , img2 and label=s,dissimalar.\n",
    "#skippin validation\n",
    "#training the model here.\n",
    "model.fit([tr_pairs[:, 0], tr_pairs[:, 1]], tr_y,\n",
    "          batch_size=128,\n",
    "          epochs=epochs,\n",
    "          validation_data=([te_pairs[:, 0], te_pairs[:, 1]], te_y))\n",
    "\n",
    "#pass my vgg vectors to base_network. processed_a wd have final img embedding. Any new img seacrh for similiarity \n",
    "#getting new vgg vector, passing thru n/w to get embeddings and then do a KNN search.\n",
    "\n",
    "\n",
    "#not interested in prediciting\n",
    "# compute final accuracy on training and test sets\n",
    "y_pred = model.predict([tr_pairs[:, 0], tr_pairs[:, 1]])\n",
    "tr_acc = compute_accuracy(tr_y, y_pred)\n",
    "y_pred = model.predict([te_pairs[:, 0], te_pairs[:, 1]])\n",
    "te_acc = compute_accuracy(te_y, y_pred)\n",
    "\n",
    "print('* Accuracy on training set: %0.2f%%' % (100 * tr_acc))\n",
    "print('* Accuracy on test set: %0.2f%%' % (100 * te_acc))"
   ]
  },
  {
   "cell_type": "code",
   "execution_count": 11,
   "metadata": {},
   "outputs": [
    {
     "name": "stdout",
     "output_type": "stream",
     "text": [
      "(28, 28) <class 'tuple'>\n"
     ]
    }
   ],
   "source": [
    "print(x_train.shape[1:],type(x_train.shape[1:]))"
   ]
  },
  {
   "cell_type": "code",
   "execution_count": null,
   "metadata": {},
   "outputs": [],
   "source": [
    "print(len(tr_pairs))"
   ]
  },
  {
   "cell_type": "code",
   "execution_count": null,
   "metadata": {},
   "outputs": [],
   "source": [
    "print(tr_pairs.shape)"
   ]
  },
  {
   "cell_type": "code",
   "execution_count": null,
   "metadata": {},
   "outputs": [],
   "source": [
    "print(tr_pairs,tr_y)"
   ]
  },
  {
   "cell_type": "code",
   "execution_count": null,
   "metadata": {},
   "outputs": [],
   "source": [
    "print(tr_y)"
   ]
  },
  {
   "cell_type": "code",
   "execution_count": null,
   "metadata": {},
   "outputs": [],
   "source": [
    "print(tr_y.shape)"
   ]
  },
  {
   "cell_type": "code",
   "execution_count": 15,
   "metadata": {},
   "outputs": [
    {
     "data": {
      "text/plain": [
       "TensorShape([Dimension(None), Dimension(28), Dimension(28)])"
      ]
     },
     "execution_count": 15,
     "metadata": {},
     "output_type": "execute_result"
    }
   ],
   "source": [
    "input_a.shape"
   ]
  }
 ],
 "metadata": {
  "kernelspec": {
   "display_name": "Python 3",
   "language": "python",
   "name": "python3"
  },
  "language_info": {
   "codemirror_mode": {
    "name": "ipython",
    "version": 3
   },
   "file_extension": ".py",
   "mimetype": "text/x-python",
   "name": "python",
   "nbconvert_exporter": "python",
   "pygments_lexer": "ipython3",
   "version": "3.6.7"
  }
 },
 "nbformat": 4,
 "nbformat_minor": 2
}
